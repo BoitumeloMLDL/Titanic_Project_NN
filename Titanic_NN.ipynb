{
 "cells": [
  {
   "cell_type": "code",
   "execution_count": 2,
   "id": "57f0bc62-3db8-4350-8e2f-4e39c7b6e8fb",
   "metadata": {},
   "outputs": [],
   "source": [
    "import numpy as np\n",
    "import tensorflow as tf"
   ]
  },
  {
   "cell_type": "code",
   "execution_count": 3,
   "id": "3076e1b7-212b-48b0-9e1e-9fa0ec4aea43",
   "metadata": {},
   "outputs": [],
   "source": [
    "# let's create a temporary variable npz, where we will store each of the three Audiobooks datasets\n",
    "npz = np.load('Titanic_data_train.npz')\n",
    "\n",
    "# we extract the inputs using the keyword under which we saved them\n",
    "# to ensure that they are all floats, let's also take care of that\n",
    "train_inputs = npz['inputs'].astype(float)\n",
    "# targets must be int because of sparse_categorical_crossentropy (we want to be able to smoothly one-hot encode them)\n",
    "train_targets = npz['targets'].astype(int)\n",
    "\n",
    "# we load the validation data in the temporary variable\n",
    "npz = np.load('Titanic_data_validation.npz')\n",
    "# we can load the inputs and the targets in the same line\n",
    "validation_inputs, validation_targets = npz['inputs'].astype(float), npz['targets'].astype(int)\n",
    "\n",
    "# we load the test data in the temporary variable\n",
    "npz = np.load('Titanic_data_test.npz')\n",
    "# we create 2 variables that will contain the test inputs and the test targets\n",
    "test_inputs, test_targets = npz['inputs'].astype(float), npz['targets'].astype(int)"
   ]
  },
  {
   "cell_type": "code",
   "execution_count": 5,
   "id": "26faffe2-1f3a-4dc5-abbb-ff180b4086bb",
   "metadata": {},
   "outputs": [
    {
     "name": "stdout",
     "output_type": "stream",
     "text": [
      "Epoch 1/100\n",
      "6/6 - 1s - 118ms/step - accuracy: 0.6250 - loss: 0.6378 - val_accuracy: 0.6765 - val_loss: 0.6137\n",
      "Epoch 2/100\n",
      "6/6 - 0s - 5ms/step - accuracy: 0.7574 - loss: 0.5931 - val_accuracy: 0.7059 - val_loss: 0.5974\n",
      "Epoch 3/100\n",
      "6/6 - 0s - 5ms/step - accuracy: 0.7647 - loss: 0.5626 - val_accuracy: 0.7059 - val_loss: 0.5815\n",
      "Epoch 4/100\n",
      "6/6 - 0s - 5ms/step - accuracy: 0.7757 - loss: 0.5395 - val_accuracy: 0.6912 - val_loss: 0.5664\n",
      "Epoch 5/100\n",
      "6/6 - 0s - 6ms/step - accuracy: 0.7776 - loss: 0.5207 - val_accuracy: 0.6912 - val_loss: 0.5521\n",
      "Epoch 6/100\n",
      "6/6 - 0s - 6ms/step - accuracy: 0.7794 - loss: 0.5050 - val_accuracy: 0.6912 - val_loss: 0.5419\n",
      "Epoch 7/100\n",
      "6/6 - 0s - 6ms/step - accuracy: 0.7812 - loss: 0.4919 - val_accuracy: 0.6765 - val_loss: 0.5351\n",
      "Epoch 8/100\n",
      "6/6 - 0s - 6ms/step - accuracy: 0.7812 - loss: 0.4822 - val_accuracy: 0.6765 - val_loss: 0.5274\n",
      "Epoch 9/100\n",
      "6/6 - 0s - 6ms/step - accuracy: 0.7757 - loss: 0.4738 - val_accuracy: 0.6765 - val_loss: 0.5197\n",
      "Epoch 10/100\n",
      "6/6 - 0s - 6ms/step - accuracy: 0.7721 - loss: 0.4687 - val_accuracy: 0.6765 - val_loss: 0.5170\n",
      "Epoch 11/100\n",
      "6/6 - 0s - 6ms/step - accuracy: 0.7776 - loss: 0.4646 - val_accuracy: 0.6765 - val_loss: 0.5151\n",
      "Epoch 12/100\n",
      "6/6 - 0s - 6ms/step - accuracy: 0.7849 - loss: 0.4608 - val_accuracy: 0.6618 - val_loss: 0.5181\n",
      "Epoch 13/100\n",
      "6/6 - 0s - 6ms/step - accuracy: 0.7831 - loss: 0.4577 - val_accuracy: 0.6765 - val_loss: 0.5215\n"
     ]
    },
    {
     "data": {
      "text/plain": [
       "<keras.src.callbacks.history.History at 0x30508a5d0>"
      ]
     },
     "execution_count": 5,
     "metadata": {},
     "output_type": "execute_result"
    }
   ],
   "source": [
    "# Set the input and output sizes\n",
    "input_size = 6\n",
    "output_size = 2\n",
    "# Use same hidden layer size for both hidden layers. Not a necessity.\n",
    "hidden_layer_size = 50\n",
    "    \n",
    "# define how the model will look like\n",
    "model = tf.keras.Sequential([\n",
    "    # tf.keras.layers.Dense is basically implementing: output = activation(dot(input, weight) + bias)\n",
    "    # it takes several arguments, but the most important ones for us are the hidden_layer_size and the activation function\n",
    "    tf.keras.layers.Dense(hidden_layer_size, activation='relu'), # 1st hidden layer\n",
    "    tf.keras.layers.Dense(hidden_layer_size, activation='relu'), # 2nd hidden layer\n",
    "    # the final layer is no different, we just make sure to activate it with softmax\n",
    "    tf.keras.layers.Dense(output_size, activation='softmax') # output layer\n",
    "])\n",
    "\n",
    "\n",
    "### Choose the optimizer and the loss function\n",
    "\n",
    "# we define the optimizer we'd like to use, \n",
    "# the loss function, \n",
    "# and the metrics we are interested in obtaining at each iteration\n",
    "model.compile(optimizer='adam', loss='sparse_categorical_crossentropy', metrics=['accuracy'])\n",
    "\n",
    "### Training\n",
    "# That's where we train the model we have built.\n",
    "\n",
    "# set the batch size\n",
    "batch_size = 100\n",
    "\n",
    "# set a maximum number of training epochs\n",
    "max_epochs = 100\n",
    "\n",
    "early_stopping = tf.keras.callbacks.EarlyStopping(patience=2)\n",
    "\n",
    "# fit the model\n",
    "# note that this time the train, validation and test data are not iterable\n",
    "model.fit(train_inputs, # train inputs\n",
    "          train_targets, # train targets\n",
    "          batch_size=batch_size, # batch size\n",
    "          epochs=max_epochs, # epochs that we will train for (assuming early stopping doesn't kick in)\n",
    "          callbacks=[early_stopping],\n",
    "          validation_data=(validation_inputs, validation_targets), # validation data\n",
    "          verbose = 2 # making sure we get enough information about the training process\n",
    "          )  "
   ]
  },
  {
   "cell_type": "code",
   "execution_count": null,
   "id": "3a6d93e2-4d92-4544-bf6e-745582d02994",
   "metadata": {},
   "outputs": [],
   "source": []
  }
 ],
 "metadata": {
  "kernelspec": {
   "display_name": "Python 3 (ipykernel)",
   "language": "python",
   "name": "python3"
  },
  "language_info": {
   "codemirror_mode": {
    "name": "ipython",
    "version": 3
   },
   "file_extension": ".py",
   "mimetype": "text/x-python",
   "name": "python",
   "nbconvert_exporter": "python",
   "pygments_lexer": "ipython3",
   "version": "3.11.8"
  }
 },
 "nbformat": 4,
 "nbformat_minor": 5
}
